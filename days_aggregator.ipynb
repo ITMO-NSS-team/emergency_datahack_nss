{
 "cells": [
  {
   "cell_type": "code",
   "execution_count": 4,
   "id": "30ff596e",
   "metadata": {},
   "outputs": [],
   "source": [
    "import pandas as pd\n",
    "import numpy as np\n",
    "from collections import Counter\n",
    "\n"
   ]
  },
  {
   "cell_type": "code",
   "execution_count": 59,
   "id": "6c966882",
   "metadata": {},
   "outputs": [
    {
     "data": {
      "text/plain": [
       "63.494505494505496"
      ]
     },
     "execution_count": 59,
     "metadata": {},
     "output_type": "execute_result"
    }
   ],
   "source": [
    "df = pd.read_csv('../sample/track_2/train_sample.csv')\n",
    "df.sort_values(by='date')\n",
    "days_agg(df, 'ice_thickness', 'mean', 7)"
   ]
  },
  {
   "cell_type": "code",
   "execution_count": 50,
   "id": "043563f3",
   "metadata": {},
   "outputs": [],
   "source": [
    "\"\"\"НЕ ЗАБУДЬТЕ:\n",
    "- отсортировать df по дате.\n",
    "- перевести значения колонки в int or float.\n",
    "\"\"\"\n",
    "\n",
    "def occ(x: list):\n",
    "    c = Counter(x)\n",
    "    c = dict(sorted(x.items(), key=lambda item: item[1], reverce=True))\n",
    "    res = list(c.keys())[-1]\n",
    "    \n",
    "    return res\n",
    "\n",
    "def days_agg(dataframe: pd.DataFrame, column_name: str, agg_func: str, days: int):\n",
    "    \"\"\"Агрегирует данные в выбранной колонке за заданное колчество дней. По сути юзер-френдли 'скользящее окно'.\n",
    "    \n",
    "    params agg_func: модет принимать значение ['mean', 'std', 'sum', 'amplitude', 'occ'].\n",
    "        - amplitude: max(value) - min(value)\n",
    "        - occ: максимальное встречающееся значение\n",
    "            [2,3,4,2,2,2,3]: {2: 4, 3: 2, 4: 1} => вернет 2, максимально встречающееся значение\n",
    "    params days: ширина окна\n",
    "    params column_name: что агрегировать\n",
    "    params dataframe: dataframe\n",
    "    \n",
    "    return: ...\n",
    "    \"\"\"\n",
    "    \n",
    "    d = {\n",
    "        'mean': np.mean,\n",
    "        'sum': np.sum,\n",
    "        'std': np.std,\n",
    "        'amplitude': lambda x: np.max(x) - np.min(x),\n",
    "        'occ': occ\n",
    "    }\n",
    "    \n",
    "    agg_f = d[agg_func]\n",
    "    values = np.array(dataframe[column_name])\n",
    "    result = []\n",
    "    \n",
    "    for i in range(0, len(values) - days):\n",
    "        result.append(agg_f(values[i : i + days]))\n",
    "    \n",
    "    return agg_f(result)\n",
    "        \n",
    "    \n",
    "    \n"
   ]
  },
  {
   "cell_type": "code",
   "execution_count": null,
   "id": "e51ccc27",
   "metadata": {},
   "outputs": [],
   "source": []
  }
 ],
 "metadata": {
  "kernelspec": {
   "display_name": "Python 3",
   "language": "python",
   "name": "python3"
  },
  "language_info": {
   "codemirror_mode": {
    "name": "ipython",
    "version": 3
   },
   "file_extension": ".py",
   "mimetype": "text/x-python",
   "name": "python",
   "nbconvert_exporter": "python",
   "pygments_lexer": "ipython3",
   "version": "3.8.5"
  }
 },
 "nbformat": 4,
 "nbformat_minor": 5
}
